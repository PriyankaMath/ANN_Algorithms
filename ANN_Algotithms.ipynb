{
  "nbformat": 4,
  "nbformat_minor": 0,
  "metadata": {
    "colab": {
      "name": "ANN_Algotithms.ipynb",
      "provenance": [],
      "collapsed_sections": [],
      "include_colab_link": true
    },
    "kernelspec": {
      "name": "python3",
      "display_name": "Python 3"
    },
    "language_info": {
      "name": "python"
    }
  },
  "cells": [
    {
      "cell_type": "markdown",
      "metadata": {
        "id": "view-in-github",
        "colab_type": "text"
      },
      "source": [
        "<a href=\"https://colab.research.google.com/github/PriyankaMath/ANN_Algorithms/blob/main/ANN_Algotithms.ipynb\" target=\"_parent\"><img src=\"https://colab.research.google.com/assets/colab-badge.svg\" alt=\"Open In Colab\"/></a>"
      ]
    },
    {
      "cell_type": "code",
      "metadata": {
        "id": "N71_fElG0mCp",
        "colab": {
          "base_uri": "https://localhost:8080/"
        },
        "outputId": "6cb9b4b2-5d24-4844-e488-064ff12c97eb"
      },
      "source": [
        "!pip install lightfm\n",
        "from lightfm import LightFM\n",
        "from lightfm.datasets import fetch_movielens\n",
        "import numpy as np\n",
        "from lightfm.evaluation import precision_at_k\n",
        "from lightfm.evaluation import auc_score\n",
        "import pickle"
      ],
      "execution_count": 1,
      "outputs": [
        {
          "output_type": "stream",
          "name": "stdout",
          "text": [
            "Requirement already satisfied: lightfm in /usr/local/lib/python3.7/dist-packages (1.16)\n",
            "Requirement already satisfied: requests in /usr/local/lib/python3.7/dist-packages (from lightfm) (2.23.0)\n",
            "Requirement already satisfied: scikit-learn in /usr/local/lib/python3.7/dist-packages (from lightfm) (1.0.1)\n",
            "Requirement already satisfied: numpy in /usr/local/lib/python3.7/dist-packages (from lightfm) (1.19.5)\n",
            "Requirement already satisfied: scipy>=0.17.0 in /usr/local/lib/python3.7/dist-packages (from lightfm) (1.4.1)\n",
            "Requirement already satisfied: chardet<4,>=3.0.2 in /usr/local/lib/python3.7/dist-packages (from requests->lightfm) (3.0.4)\n",
            "Requirement already satisfied: idna<3,>=2.5 in /usr/local/lib/python3.7/dist-packages (from requests->lightfm) (2.10)\n",
            "Requirement already satisfied: urllib3!=1.25.0,!=1.25.1,<1.26,>=1.21.1 in /usr/local/lib/python3.7/dist-packages (from requests->lightfm) (1.24.3)\n",
            "Requirement already satisfied: certifi>=2017.4.17 in /usr/local/lib/python3.7/dist-packages (from requests->lightfm) (2021.10.8)\n",
            "Requirement already satisfied: threadpoolctl>=2.0.0 in /usr/local/lib/python3.7/dist-packages (from scikit-learn->lightfm) (3.0.0)\n",
            "Requirement already satisfied: joblib>=0.11 in /usr/local/lib/python3.7/dist-packages (from scikit-learn->lightfm) (1.1.0)\n"
          ]
        }
      ]
    },
    {
      "cell_type": "code",
      "metadata": {
        "id": "k8XCR7V64JYb"
      },
      "source": [
        "movielensdata = fetch_movielens()"
      ],
      "execution_count": 2,
      "outputs": []
    },
    {
      "cell_type": "code",
      "metadata": {
        "colab": {
          "base_uri": "https://localhost:8080/"
        },
        "id": "zu2O3R1p4xDv",
        "outputId": "2cf6dacf-afe0-4e28-cc1a-5905e346729d"
      },
      "source": [
        "for key, value in movielensdata.items():\n",
        "    print(key, type(value), value.shape)"
      ],
      "execution_count": 3,
      "outputs": [
        {
          "output_type": "stream",
          "name": "stdout",
          "text": [
            "train <class 'scipy.sparse.coo.coo_matrix'> (943, 1682)\n",
            "test <class 'scipy.sparse.coo.coo_matrix'> (943, 1682)\n",
            "item_features <class 'scipy.sparse.csr.csr_matrix'> (1682, 1682)\n",
            "item_feature_labels <class 'numpy.ndarray'> (1682,)\n",
            "item_labels <class 'numpy.ndarray'> (1682,)\n"
          ]
        }
      ]
    },
    {
      "cell_type": "code",
      "metadata": {
        "id": "glDAsgDD41i0"
      },
      "source": [
        "train = movielensdata['train']\n",
        "test = movielensdata['test']"
      ],
      "execution_count": 4,
      "outputs": []
    },
    {
      "cell_type": "code",
      "metadata": {
        "colab": {
          "base_uri": "https://localhost:8080/"
        },
        "id": "dmux0TEb472M",
        "outputId": "e1ba57dc-85fa-4b9c-e559-551cd65d0d2d"
      },
      "source": [
        "model = LightFM(learning_rate=0.05, loss='warp')\n",
        "\n",
        "model.fit_partial(train, epochs=10)\n",
        "\n",
        "train_precision = precision_at_k(model, train, k=10).mean()\n",
        "test_precision = precision_at_k(model, test, k=10).mean()\n",
        "\n",
        "train_auc = auc_score(model, train).mean()\n",
        "test_auc = auc_score(model, test).mean()\n",
        "\n",
        "print('Precision: train %.2f, test %.2f.' % (train_precision, test_precision))\n",
        "print('AUC: train %.2f, test %.2f.' % (train_auc, test_auc))"
      ],
      "execution_count": 5,
      "outputs": [
        {
          "output_type": "stream",
          "name": "stdout",
          "text": [
            "Precision: train 0.61, test 0.11.\n",
            "AUC: train 0.94, test 0.90.\n"
          ]
        }
      ]
    },
    {
      "cell_type": "code",
      "metadata": {
        "id": "X3RS46y59NOT"
      },
      "source": [
        "item_vectors = movielensdata['item_features'] * model.item_embeddings"
      ],
      "execution_count": 6,
      "outputs": []
    },
    {
      "cell_type": "code",
      "metadata": {
        "colab": {
          "base_uri": "https://localhost:8080/"
        },
        "id": "OX134HpV449h",
        "outputId": "429d4c8c-88a8-4f4a-f9de-e853f987cc14"
      },
      "source": [
        "model = LightFM(learning_rate=0.05, loss='bpr')\n",
        "model.fit(train, epochs=10)\n",
        "\n",
        "train_precision = precision_at_k(model, train, k=10).mean()\n",
        "test_precision = precision_at_k(model, test, k=10).mean()\n",
        "\n",
        "train_auc = auc_score(model, train).mean()\n",
        "test_auc = auc_score(model, test).mean()\n",
        "\n",
        "print('Precision: train %.2f, test %.2f.' % (train_precision, test_precision))\n",
        "print('AUC: train %.2f, test %.2f.' % (train_auc, test_auc))"
      ],
      "execution_count": 7,
      "outputs": [
        {
          "output_type": "stream",
          "name": "stdout",
          "text": [
            "Precision: train 0.59, test 0.10.\n",
            "AUC: train 0.89, test 0.86.\n"
          ]
        }
      ]
    },
    {
      "cell_type": "code",
      "metadata": {
        "id": "yVZlpDkR5BgS"
      },
      "source": [
        "with open('movielens.pickle', 'wb') as f:\n",
        "    pickle.dump({\"name\": movielensdata['item_feature_labels'], \"vector\": item_vectors}, f)"
      ],
      "execution_count": 8,
      "outputs": []
    },
    {
      "cell_type": "code",
      "metadata": {
        "colab": {
          "base_uri": "https://localhost:8080/"
        },
        "id": "-RgZKT6k6rQe",
        "outputId": "9acd7a06-91a9-4ef9-b3e1-389ed1ddcf26"
      },
      "source": [
        "def load_data():\n",
        "    with open('movielens.pickle', 'rb') as f:\n",
        "        data = pickle.load(f)\n",
        "    return data\n",
        "\n",
        "data = load_data()\n",
        "data"
      ],
      "execution_count": 9,
      "outputs": [
        {
          "output_type": "execute_result",
          "data": {
            "text/plain": [
              "{'name': array(['Toy Story (1995)', 'GoldenEye (1995)', 'Four Rooms (1995)', ...,\n",
              "        'Sliding Doors (1998)', 'You So Crazy (1994)',\n",
              "        'Scream of Stone (Schrei aus Stein) (1991)'], dtype=object),\n",
              " 'vector': array([[ 0.44773567, -0.5421608 , -0.8530715 , ..., -0.42705998,\n",
              "          0.2976313 , -0.24506229],\n",
              "        [-0.9270871 ,  0.12023643,  0.00364534, ..., -0.40871066,\n",
              "         -0.1807808 , -0.02832063],\n",
              "        [-0.34158242, -0.95900655,  0.15841396, ..., -0.36590555,\n",
              "          0.5346886 , -0.01360991],\n",
              "        ...,\n",
              "        [-0.00530609,  0.0372894 ,  0.56539595, ...,  0.49840134,\n",
              "          0.30304453, -0.10677519],\n",
              "        [-0.09163828, -0.10213464,  0.43350768, ...,  0.36996385,\n",
              "          0.13224396, -0.25808433],\n",
              "        [-0.06250183, -0.09214886,  0.44835532, ...,  0.27758336,\n",
              "          0.09235444, -0.1141343 ]], dtype=float32)}"
            ]
          },
          "metadata": {},
          "execution_count": 9
        }
      ]
    },
    {
      "cell_type": "code",
      "metadata": {
        "colab": {
          "base_uri": "https://localhost:8080/"
        },
        "id": "DmFO9oCK7AmE",
        "outputId": "1d03dbf2-dab4-436c-963b-f4c034d13ac9"
      },
      "source": [
        "!pip install faiss-gpu\n",
        "import faiss"
      ],
      "execution_count": 10,
      "outputs": [
        {
          "output_type": "stream",
          "name": "stdout",
          "text": [
            "Requirement already satisfied: faiss-gpu in /usr/local/lib/python3.7/dist-packages (1.7.1.post2)\n"
          ]
        }
      ]
    },
    {
      "cell_type": "markdown",
      "metadata": {
        "id": "nkA-zeil7IxM"
      },
      "source": [
        "# Locality_Sensitive_Hashing"
      ]
    },
    {
      "cell_type": "code",
      "metadata": {
        "id": "aCHeQZuX7TOA"
      },
      "source": [
        "class LSHIndex():\n",
        "    def __init__(self, vectors, labels):\n",
        "        self.dimension = vectors.shape[1]\n",
        "        self.vectors = vectors.astype('float32')\n",
        "        self.labels = labels    \n",
        "   \n",
        "    def build(self, num_bits=8):\n",
        "        self.index = faiss.IndexLSH(self.dimension, num_bits)\n",
        "        self.index.add(self.vectors)\n",
        "        \n",
        "    def query(self, vectors, k=10):\n",
        "        distances, indices = self.index.search(vectors, k) \n",
        "        return [self.labels[i] for i in indices[0]]"
      ],
      "execution_count": 11,
      "outputs": []
    },
    {
      "cell_type": "code",
      "metadata": {
        "id": "uk_Ct5p-7V7n"
      },
      "source": [
        "index = LSHIndex(data[\"vector\"], data[\"name\"])\n",
        "index.build()"
      ],
      "execution_count": 12,
      "outputs": []
    },
    {
      "cell_type": "code",
      "metadata": {
        "colab": {
          "base_uri": "https://localhost:8080/"
        },
        "id": "H0tvukVr7YJK",
        "outputId": "f9d456c1-6223-4967-f3dd-26a199505a8c"
      },
      "source": [
        "movie_vector, movie_name = data['vector'][90:91], data['name'][90]\n",
        "simlar_movie_questions = '\\n* '.join(index.query(movie_vector))\n",
        "print(f\"The most similar movies to {movie_name} are:\\n* {simlar_movie_questions}\")"
      ],
      "execution_count": 13,
      "outputs": [
        {
          "output_type": "stream",
          "name": "stdout",
          "text": [
            "The most similar movies to Nightmare Before Christmas, The (1993) are:\n",
            "* Outbreak (1995)\n",
            "* Star Trek: The Wrath of Khan (1982)\n",
            "* Die Hard 2 (1990)\n",
            "* Heavy Metal (1981)\n",
            "* Star Trek III: The Search for Spock (1984)\n",
            "* Star Trek IV: The Voyage Home (1986)\n",
            "* Last of the Mohicans, The (1992)\n",
            "* Clueless (1995)\n",
            "* Bram Stoker's Dracula (1992)\n",
            "* Nightmare Before Christmas, The (1993)\n"
          ]
        }
      ]
    },
    {
      "cell_type": "markdown",
      "metadata": {
        "id": "yxvhabc27w8I"
      },
      "source": [
        "#Trees and Graphs using Annoy"
      ]
    },
    {
      "cell_type": "code",
      "metadata": {
        "id": "ygo6ZGTc7kyf"
      },
      "source": [
        "class TreesIndex():\n",
        "    def __init__(self, vectors, labels):\n",
        "        self.dimention = vectors.shape[1]\n",
        "        self.vectors = vectors.astype('float32')\n",
        "        self.labels = labels\n",
        "\n",
        "\n",
        "    def build(self, number_of_trees=5):\n",
        "        self.index = annoy.AnnoyIndex(self.dimention)\n",
        "        for i, vec in enumerate(self.vectors):\n",
        "            self.index.add_item(i, vec.tolist())\n",
        "        self.index.build(number_of_trees)\n",
        "        \n",
        "    def query(self, vector, k=10):\n",
        "        indices = self.index.get_nns_by_vector(vector.tolist(), k)\n",
        "        return [self.labels[i] for i in indices]"
      ],
      "execution_count": 14,
      "outputs": []
    },
    {
      "cell_type": "code",
      "metadata": {
        "colab": {
          "base_uri": "https://localhost:8080/"
        },
        "id": "soAW_l7R75Xl",
        "outputId": "3bfb1bf6-046e-451e-f409-ce76e5835133"
      },
      "source": [
        "!pip install annoy\n",
        "import annoy"
      ],
      "execution_count": 15,
      "outputs": [
        {
          "output_type": "stream",
          "name": "stdout",
          "text": [
            "Requirement already satisfied: annoy in /usr/local/lib/python3.7/dist-packages (1.17.0)\n"
          ]
        }
      ]
    },
    {
      "cell_type": "code",
      "metadata": {
        "colab": {
          "base_uri": "https://localhost:8080/"
        },
        "id": "-Vv298o7721A",
        "outputId": "f7161196-b2ca-4cdd-9784-680381306cfc"
      },
      "source": [
        "index = TreesIndex(data[\"vector\"], data[\"name\"])\n",
        "index.build()"
      ],
      "execution_count": 16,
      "outputs": [
        {
          "output_type": "stream",
          "name": "stderr",
          "text": [
            "/usr/local/lib/python3.7/dist-packages/ipykernel_launcher.py:9: FutureWarning: The default argument for metric will be removed in future version of Annoy. Please pass metric='angular' explicitly.\n",
            "  if __name__ == '__main__':\n"
          ]
        }
      ]
    },
    {
      "cell_type": "code",
      "metadata": {
        "colab": {
          "base_uri": "https://localhost:8080/"
        },
        "id": "SqFZRDhu7-41",
        "outputId": "9f3b5a46-e04a-426a-8936-bd1a9f810dea"
      },
      "source": [
        "movie_vector, movie_name = data['vector'][90], data['name'][90]\n",
        "similar_movie_questions = '\\n* '.join(index.query(movie_vector))\n",
        "print(f\"The most similar movie to {movie_name} are:\\n* {simlar_movie_questions}\")"
      ],
      "execution_count": 17,
      "outputs": [
        {
          "output_type": "stream",
          "name": "stdout",
          "text": [
            "The most similar movie to Nightmare Before Christmas, The (1993) are:\n",
            "* Outbreak (1995)\n",
            "* Star Trek: The Wrath of Khan (1982)\n",
            "* Die Hard 2 (1990)\n",
            "* Heavy Metal (1981)\n",
            "* Star Trek III: The Search for Spock (1984)\n",
            "* Star Trek IV: The Voyage Home (1986)\n",
            "* Last of the Mohicans, The (1992)\n",
            "* Clueless (1995)\n",
            "* Bram Stoker's Dracula (1992)\n",
            "* Nightmare Before Christmas, The (1993)\n"
          ]
        }
      ]
    },
    {
      "cell_type": "code",
      "metadata": {
        "colab": {
          "base_uri": "https://localhost:8080/"
        },
        "id": "H8kFqDzr8bXI",
        "outputId": "62fd6936-3b47-4247-9fba-565db00659b0"
      },
      "source": [
        "!pip install nmslib\n",
        "import nmslib"
      ],
      "execution_count": 18,
      "outputs": [
        {
          "output_type": "stream",
          "name": "stdout",
          "text": [
            "Requirement already satisfied: nmslib in /usr/local/lib/python3.7/dist-packages (2.1.1)\n",
            "Requirement already satisfied: numpy>=1.10.0 in /usr/local/lib/python3.7/dist-packages (from nmslib) (1.19.5)\n",
            "Requirement already satisfied: pybind11<2.6.2 in /usr/local/lib/python3.7/dist-packages (from nmslib) (2.6.1)\n",
            "Requirement already satisfied: psutil in /usr/local/lib/python3.7/dist-packages (from nmslib) (5.4.8)\n"
          ]
        }
      ]
    },
    {
      "cell_type": "markdown",
      "metadata": {
        "id": "Jzve5t-D8lTz"
      },
      "source": [
        "#HNSW: Hierarchical Navigable Small World Algorithm"
      ]
    },
    {
      "cell_type": "code",
      "metadata": {
        "id": "1mw19eD28jdy"
      },
      "source": [
        "class HNSWIndex():\n",
        "    def __init__(self, vectors, labels):\n",
        "        self.dimention = vectors.shape[1]\n",
        "        self.vectors = vectors.astype('float32')\n",
        "        self.labels = labels\n",
        "    def build(self):\n",
        "        self.index = nmslib.init(method='hnsw', space='cosinesimil')\n",
        "        self.index.addDataPointBatch(self.vectors)\n",
        "        self.index.createIndex({'post': 2})\n",
        "        \n",
        "    def query(self, vector, k=10):\n",
        "        indices = self.index.knnQuery(vector, k=k)\n",
        "        return [self.labels[i] for i in indices[0]]"
      ],
      "execution_count": 19,
      "outputs": []
    },
    {
      "cell_type": "code",
      "metadata": {
        "id": "9ONG-kIN8tWg"
      },
      "source": [
        "index = HNSWIndex(data[\"vector\"], data[\"name\"])\n",
        "index.build()"
      ],
      "execution_count": 20,
      "outputs": []
    },
    {
      "cell_type": "code",
      "metadata": {
        "colab": {
          "base_uri": "https://localhost:8080/"
        },
        "id": "Pd8dnCjt8ved",
        "outputId": "6142f83d-85c3-4c9d-b8c5-0ea3a26150c9"
      },
      "source": [
        "movie_vector, movie_name = data['vector'][90], data['name'][90]\n",
        "simlar_movie_questions = '\\n* '.join(index.query(movie_vector))\n",
        "print(f\"The most similar stack to {movie_name} are:\\n* {simlar_movie_questions}\")"
      ],
      "execution_count": 21,
      "outputs": [
        {
          "output_type": "stream",
          "name": "stdout",
          "text": [
            "The most similar stack to Nightmare Before Christmas, The (1993) are:\n",
            "* Nightmare Before Christmas, The (1993)\n",
            "* Clear and Present Danger (1994)\n",
            "* Top Gun (1986)\n",
            "* Batman (1989)\n",
            "* True Lies (1994)\n",
            "* Star Trek IV: The Voyage Home (1986)\n",
            "* Grease (1978)\n",
            "* Star Trek: The Wrath of Khan (1982)\n",
            "* Last of the Mohicans, The (1992)\n",
            "* Star Trek III: The Search for Spock (1984)\n"
          ]
        }
      ]
    },
    {
      "cell_type": "markdown",
      "metadata": {
        "id": "x3DEaazv9f_B"
      },
      "source": [
        "#Product Quantization"
      ]
    },
    {
      "cell_type": "code",
      "metadata": {
        "id": "mSVOFG9H866l"
      },
      "source": [
        "class ProductIndex():\n",
        "    def __init__(self, vectors, labels):\n",
        "        self.dimension = vectors.shape[1]\n",
        "        self.vectors = vectors.astype('float32')\n",
        "        self.labels = labels    \n",
        "    def build(self, number_of_partition=8, search_in_x_partitions=2, subvector_size=8):\n",
        "        quantizer = faiss.IndexFlatL2(self.dimension)\n",
        "        self.index = faiss.IndexIVFPQ(quantizer, \n",
        "                                      self.dimension, \n",
        "                                      number_of_partition, \n",
        "                                      search_in_x_partitions, \n",
        "                                      subvector_size)\n",
        "        self.index.train(self.vectors)\n",
        "        self.index.add(self.vectors)\n",
        "        \n",
        "    def query(self, vectors, k=10):\n",
        "        distances, indices = self.index.search(vectors, k) \n",
        "        # I expect only query on one vector thus the slice\n",
        "        return [self.labels[i] for i in indices[0]]"
      ],
      "execution_count": 22,
      "outputs": []
    },
    {
      "cell_type": "code",
      "metadata": {
        "id": "UlNXI1kM90yO"
      },
      "source": [
        "index = ProductIndex(data[\"vector\"], data[\"name\"])\n",
        "index.build()"
      ],
      "execution_count": 23,
      "outputs": []
    },
    {
      "cell_type": "code",
      "metadata": {
        "colab": {
          "base_uri": "https://localhost:8080/"
        },
        "id": "I6YbBdTm94DO",
        "outputId": "7d9ec6f8-e35b-4ad9-e324-9bfae1f8479c"
      },
      "source": [
        "movie_index = 90\n",
        "movie_vector = data['vector'][movie_index:movie_index+1]\n",
        "print(f\"The most simillar movie to {data['name'][movie_index]} are:\")\n",
        "index.query(movie_vector)"
      ],
      "execution_count": 24,
      "outputs": [
        {
          "output_type": "stream",
          "name": "stdout",
          "text": [
            "The most simillar movie to Nightmare Before Christmas, The (1993) are:\n"
          ]
        },
        {
          "output_type": "execute_result",
          "data": {
            "text/plain": [
              "['Nightmare Before Christmas, The (1993)',\n",
              " 'Rob Roy (1995)',\n",
              " 'Last of the Mohicans, The (1992)',\n",
              " 'Clear and Present Danger (1994)',\n",
              " \"Monty Python's Life of Brian (1979)\",\n",
              " 'Pink Floyd - The Wall (1982)',\n",
              " 'Mask, The (1994)',\n",
              " 'Ghost (1990)',\n",
              " 'Grease (1978)',\n",
              " 'Sneakers (1992)']"
            ]
          },
          "metadata": {},
          "execution_count": 24
        }
      ]
    },
    {
      "cell_type": "markdown",
      "metadata": {
        "id": "golvOwJ3-Lac"
      },
      "source": [
        "#Exhaustive Search"
      ]
    },
    {
      "cell_type": "code",
      "metadata": {
        "id": "s_yunGLV-DaP"
      },
      "source": [
        "class ExhaustiveIndex():\n",
        "    def __init__(self, vectors, labels):\n",
        "        self.dimension = vectors.shape[1]\n",
        "        self.vectors = vectors.astype('float32')\n",
        "        self.labels = labels    \n",
        "   \n",
        "    def build(self):\n",
        "        self.index = faiss.IndexFlatL2(self.dimension,)\n",
        "        self.index.add(self.vectors)\n",
        "        \n",
        "    def query(self, vectors, k=10):\n",
        "        distances, indices = self.index.search(vectors, k) \n",
        "        return [self.labels[i] for i in indices[0]]"
      ],
      "execution_count": 25,
      "outputs": []
    },
    {
      "cell_type": "code",
      "metadata": {
        "id": "JyME-heu-Svx"
      },
      "source": [
        "index = ExhaustiveIndex(data[\"vector\"], data[\"name\"])\n",
        "index.build()"
      ],
      "execution_count": 26,
      "outputs": []
    },
    {
      "cell_type": "code",
      "metadata": {
        "colab": {
          "base_uri": "https://localhost:8080/"
        },
        "id": "Vi_QDrmQ-Vp5",
        "outputId": "8dfd522b-4b9b-4db9-a1f5-bd8fcfc12248"
      },
      "source": [
        "movie_vector, movie_name = data['vector'][90:91], data['name'][90]\n",
        "simlar_movie_questions = '\\n* '.join(index.query(movie_vector))\n",
        "print(f\"The most similar movie to {movie_name} are:\\n* {simlar_movie_questions}\")"
      ],
      "execution_count": 27,
      "outputs": [
        {
          "output_type": "stream",
          "name": "stdout",
          "text": [
            "The most similar movie to Nightmare Before Christmas, The (1993) are:\n",
            "* Nightmare Before Christmas, The (1993)\n",
            "* Clear and Present Danger (1994)\n",
            "* Last of the Mohicans, The (1992)\n",
            "* Maverick (1994)\n",
            "* Rob Roy (1995)\n",
            "* Monty Python's Life of Brian (1979)\n",
            "* Ghost (1990)\n",
            "* Grease (1978)\n",
            "* Pink Floyd - The Wall (1982)\n",
            "* Sneakers (1992)\n"
          ]
        }
      ]
    }
  ]
}